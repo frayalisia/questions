{
 "cells": [
  {
   "cell_type": "code",
   "execution_count": 3,
   "metadata": {
    "collapsed": true
   },
   "outputs": [],
   "source": [
    "import pandas as pd\n",
    "%matplotlib inline\n",
    "import numpy as np\n",
    "from scipy.special import expit\n",
    "from sklearn.metrics import log_loss\n",
    "import csv"
   ]
  },
  {
   "cell_type": "markdown",
   "metadata": {
    "collapsed": true
   },
   "source": [
    "### Data"
   ]
  },
  {
   "cell_type": "code",
   "execution_count": 8,
   "metadata": {
    "collapsed": false
   },
   "outputs": [],
   "source": [
    "# data_target = pd.read_csv('train/train.csv', index_col=0)\n",
    "train = pd.read_pickle('train/vw_fold/train_preprocessed_lemmas_nostop.pkl')\n",
    "test = pd.read_pickle('train/vw_fold/test_preprocessed_lemmas_nostop.pkl')"
   ]
  },
  {
   "cell_type": "code",
   "execution_count": 9,
   "metadata": {
    "collapsed": false
   },
   "outputs": [
    {
     "name": "stdout",
     "output_type": "stream",
     "text": [
      "(323430, 5)\n"
     ]
    },
    {
     "data": {
      "text/html": [
       "<div>\n",
       "<table border=\"1\" class=\"dataframe\">\n",
       "  <thead>\n",
       "    <tr style=\"text-align: right;\">\n",
       "      <th></th>\n",
       "      <th>qid1</th>\n",
       "      <th>qid2</th>\n",
       "      <th>question1</th>\n",
       "      <th>question2</th>\n",
       "      <th>is_duplicate</th>\n",
       "    </tr>\n",
       "    <tr>\n",
       "      <th>id</th>\n",
       "      <th></th>\n",
       "      <th></th>\n",
       "      <th></th>\n",
       "      <th></th>\n",
       "      <th></th>\n",
       "    </tr>\n",
       "  </thead>\n",
       "  <tbody>\n",
       "    <tr>\n",
       "      <th>0</th>\n",
       "      <td>1</td>\n",
       "      <td>2</td>\n",
       "      <td>step step guide invest share market india</td>\n",
       "      <td>step step guide invest share market</td>\n",
       "      <td>0</td>\n",
       "    </tr>\n",
       "    <tr>\n",
       "      <th>1</th>\n",
       "      <td>3</td>\n",
       "      <td>4</td>\n",
       "      <td>story kohinoor koh noor diamond</td>\n",
       "      <td>would happen indian government steal kohinoor ...</td>\n",
       "      <td>0</td>\n",
       "    </tr>\n",
       "    <tr>\n",
       "      <th>2</th>\n",
       "      <td>5</td>\n",
       "      <td>6</td>\n",
       "      <td>increase speed internet connection use vpn</td>\n",
       "      <td>internet speed increase hack dns</td>\n",
       "      <td>0</td>\n",
       "    </tr>\n",
       "    <tr>\n",
       "      <th>3</th>\n",
       "      <td>7</td>\n",
       "      <td>8</td>\n",
       "      <td>mentally lonely solve</td>\n",
       "      <td>find remainder math 23 24 math divide 24 23</td>\n",
       "      <td>0</td>\n",
       "    </tr>\n",
       "    <tr>\n",
       "      <th>5</th>\n",
       "      <td>11</td>\n",
       "      <td>12</td>\n",
       "      <td>astrology capricorn sun cap moon cap rise say</td>\n",
       "      <td>triple capricorn sun moon ascendant capricorn say</td>\n",
       "      <td>1</td>\n",
       "    </tr>\n",
       "  </tbody>\n",
       "</table>\n",
       "</div>"
      ],
      "text/plain": [
       "    qid1  qid2                                      question1  \\\n",
       "id                                                              \n",
       "0      1     2      step step guide invest share market india   \n",
       "1      3     4                story kohinoor koh noor diamond   \n",
       "2      5     6     increase speed internet connection use vpn   \n",
       "3      7     8                          mentally lonely solve   \n",
       "5     11    12  astrology capricorn sun cap moon cap rise say   \n",
       "\n",
       "                                            question2  is_duplicate  \n",
       "id                                                                   \n",
       "0                 step step guide invest share market             0  \n",
       "1   would happen indian government steal kohinoor ...             0  \n",
       "2                    internet speed increase hack dns             0  \n",
       "3         find remainder math 23 24 math divide 24 23             0  \n",
       "5   triple capricorn sun moon ascendant capricorn say             1  "
      ]
     },
     "execution_count": 9,
     "metadata": {},
     "output_type": "execute_result"
    }
   ],
   "source": [
    "print(train.shape)\n",
    "train.head()"
   ]
  },
  {
   "cell_type": "markdown",
   "metadata": {},
   "source": [
    "### vw format"
   ]
  },
  {
   "cell_type": "raw",
   "metadata": {},
   "source": [
    "https://github.com/JohnLangford/vowpal_wabbit/wiki/Command-line-arguments\n",
    "https://habrahabr.ru/company/ods/blog/326418/#novosti-binarnaya-klassifikaciya\n",
    "https://habrahabr.ru/company/mlclass/blog/248779/"
   ]
  },
  {
   "cell_type": "code",
   "execution_count": 10,
   "metadata": {
    "collapsed": true
   },
   "outputs": [],
   "source": [
    "# format c tf-idf\n",
    "# format usial"
   ]
  },
  {
   "cell_type": "raw",
   "metadata": {
    "collapsed": true
   },
   "source": [
    "target |first features.... |second features.... \\n\n",
    "# 0 -> -1"
   ]
  },
  {
   "cell_type": "code",
   "execution_count": 11,
   "metadata": {
    "collapsed": false
   },
   "outputs": [],
   "source": [
    "train['target'] = train['is_duplicate']\n",
    "train['is_duplicate'] = train.is_duplicate.replace(0, -1)\n",
    "\n",
    "test['target'] = test['is_duplicate']\n",
    "test['is_duplicate'] = test.is_duplicate.replace(0, -1)"
   ]
  },
  {
   "cell_type": "code",
   "execution_count": 12,
   "metadata": {
    "collapsed": false
   },
   "outputs": [
    {
     "data": {
      "text/html": [
       "<div>\n",
       "<table border=\"1\" class=\"dataframe\">\n",
       "  <thead>\n",
       "    <tr style=\"text-align: right;\">\n",
       "      <th></th>\n",
       "      <th>qid1</th>\n",
       "      <th>qid2</th>\n",
       "      <th>question1</th>\n",
       "      <th>question2</th>\n",
       "      <th>is_duplicate</th>\n",
       "      <th>target</th>\n",
       "    </tr>\n",
       "    <tr>\n",
       "      <th>id</th>\n",
       "      <th></th>\n",
       "      <th></th>\n",
       "      <th></th>\n",
       "      <th></th>\n",
       "      <th></th>\n",
       "      <th></th>\n",
       "    </tr>\n",
       "  </thead>\n",
       "  <tbody>\n",
       "    <tr>\n",
       "      <th>0</th>\n",
       "      <td>1</td>\n",
       "      <td>2</td>\n",
       "      <td>step step guide invest share market india</td>\n",
       "      <td>step step guide invest share market</td>\n",
       "      <td>-1</td>\n",
       "      <td>0</td>\n",
       "    </tr>\n",
       "    <tr>\n",
       "      <th>1</th>\n",
       "      <td>3</td>\n",
       "      <td>4</td>\n",
       "      <td>story kohinoor koh noor diamond</td>\n",
       "      <td>would happen indian government steal kohinoor ...</td>\n",
       "      <td>-1</td>\n",
       "      <td>0</td>\n",
       "    </tr>\n",
       "    <tr>\n",
       "      <th>2</th>\n",
       "      <td>5</td>\n",
       "      <td>6</td>\n",
       "      <td>increase speed internet connection use vpn</td>\n",
       "      <td>internet speed increase hack dns</td>\n",
       "      <td>-1</td>\n",
       "      <td>0</td>\n",
       "    </tr>\n",
       "    <tr>\n",
       "      <th>3</th>\n",
       "      <td>7</td>\n",
       "      <td>8</td>\n",
       "      <td>mentally lonely solve</td>\n",
       "      <td>find remainder math 23 24 math divide 24 23</td>\n",
       "      <td>-1</td>\n",
       "      <td>0</td>\n",
       "    </tr>\n",
       "    <tr>\n",
       "      <th>5</th>\n",
       "      <td>11</td>\n",
       "      <td>12</td>\n",
       "      <td>astrology capricorn sun cap moon cap rise say</td>\n",
       "      <td>triple capricorn sun moon ascendant capricorn say</td>\n",
       "      <td>1</td>\n",
       "      <td>1</td>\n",
       "    </tr>\n",
       "  </tbody>\n",
       "</table>\n",
       "</div>"
      ],
      "text/plain": [
       "    qid1  qid2                                      question1  \\\n",
       "id                                                              \n",
       "0      1     2      step step guide invest share market india   \n",
       "1      3     4                story kohinoor koh noor diamond   \n",
       "2      5     6     increase speed internet connection use vpn   \n",
       "3      7     8                          mentally lonely solve   \n",
       "5     11    12  astrology capricorn sun cap moon cap rise say   \n",
       "\n",
       "                                            question2  is_duplicate  target  \n",
       "id                                                                           \n",
       "0                 step step guide invest share market            -1       0  \n",
       "1   would happen indian government steal kohinoor ...            -1       0  \n",
       "2                    internet speed increase hack dns            -1       0  \n",
       "3         find remainder math 23 24 math divide 24 23            -1       0  \n",
       "5   triple capricorn sun moon ascendant capricorn say             1       1  "
      ]
     },
     "execution_count": 12,
     "metadata": {},
     "output_type": "execute_result"
    }
   ],
   "source": [
    "train.head()"
   ]
  },
  {
   "cell_type": "code",
   "execution_count": 13,
   "metadata": {
    "collapsed": false
   },
   "outputs": [
    {
     "data": {
      "text/html": [
       "<div>\n",
       "<table border=\"1\" class=\"dataframe\">\n",
       "  <thead>\n",
       "    <tr style=\"text-align: right;\">\n",
       "      <th></th>\n",
       "      <th>qid1</th>\n",
       "      <th>qid2</th>\n",
       "      <th>question1</th>\n",
       "      <th>question2</th>\n",
       "      <th>is_duplicate</th>\n",
       "      <th>target</th>\n",
       "    </tr>\n",
       "    <tr>\n",
       "      <th>id</th>\n",
       "      <th></th>\n",
       "      <th></th>\n",
       "      <th></th>\n",
       "      <th></th>\n",
       "      <th></th>\n",
       "      <th></th>\n",
       "    </tr>\n",
       "  </thead>\n",
       "  <tbody>\n",
       "    <tr>\n",
       "      <th>4</th>\n",
       "      <td>9</td>\n",
       "      <td>10</td>\n",
       "      <td>one dissolve water quikly sugar salt methane c...</td>\n",
       "      <td>fish would survive salt water</td>\n",
       "      <td>-1</td>\n",
       "      <td>0</td>\n",
       "    </tr>\n",
       "    <tr>\n",
       "      <th>8</th>\n",
       "      <td>17</td>\n",
       "      <td>18</td>\n",
       "      <td>use シ instead し</td>\n",
       "      <td>use instead</td>\n",
       "      <td>-1</td>\n",
       "      <td>0</td>\n",
       "    </tr>\n",
       "    <tr>\n",
       "      <th>19</th>\n",
       "      <td>39</td>\n",
       "      <td>40</td>\n",
       "      <td>best digital marketing institution banglore</td>\n",
       "      <td>best digital marketing institute pune</td>\n",
       "      <td>-1</td>\n",
       "      <td>0</td>\n",
       "    </tr>\n",
       "    <tr>\n",
       "      <th>21</th>\n",
       "      <td>43</td>\n",
       "      <td>44</td>\n",
       "      <td>cause someone jealous</td>\n",
       "      <td>avoid jealous someone</td>\n",
       "      <td>-1</td>\n",
       "      <td>0</td>\n",
       "    </tr>\n",
       "    <tr>\n",
       "      <th>34</th>\n",
       "      <td>69</td>\n",
       "      <td>70</td>\n",
       "      <td>best travel website spain</td>\n",
       "      <td>best travel website</td>\n",
       "      <td>-1</td>\n",
       "      <td>0</td>\n",
       "    </tr>\n",
       "  </tbody>\n",
       "</table>\n",
       "</div>"
      ],
      "text/plain": [
       "    qid1  qid2                                          question1  \\\n",
       "id                                                                  \n",
       "4      9    10  one dissolve water quikly sugar salt methane c...   \n",
       "8     17    18                                    use シ instead し   \n",
       "19    39    40        best digital marketing institution banglore   \n",
       "21    43    44                              cause someone jealous   \n",
       "34    69    70                          best travel website spain   \n",
       "\n",
       "                                question2  is_duplicate  target  \n",
       "id                                                               \n",
       "4           fish would survive salt water            -1       0  \n",
       "8                             use instead            -1       0  \n",
       "19  best digital marketing institute pune            -1       0  \n",
       "21                  avoid jealous someone            -1       0  \n",
       "34                    best travel website            -1       0  "
      ]
     },
     "execution_count": 13,
     "metadata": {},
     "output_type": "execute_result"
    }
   ],
   "source": [
    "test.head()"
   ]
  },
  {
   "cell_type": "code",
   "execution_count": 113,
   "metadata": {
    "collapsed": false
   },
   "outputs": [],
   "source": [
    "def to_vw_format(table):\n",
    "    return table.is_duplicate.astype(str) + ' |first ' + table['question1'] + ' |second ' + table['question2']\n",
    "\n",
    "with open('vw_train.vw', 'w') as vw_train:\n",
    "    vw_train.write('\\n'.join(to_vw_format(train)))\n",
    "\n",
    "with open('vw_test.vw', 'w') as vw_train:\n",
    "    vw_train.write('\\n'.join(to_vw_format(test)))"
   ]
  },
  {
   "cell_type": "code",
   "execution_count": 99,
   "metadata": {
    "collapsed": false
   },
   "outputs": [
    {
     "name": "stderr",
     "output_type": "stream",
     "text": [
      "Generating 2-grams for all namespaces.\n",
      "creating quadratic features for pairs: fs \n",
      "using l1 regularization = 1e-08\n",
      "using l2 regularization = 1e-08\n",
      "final_regressor = vw_model.vw\n",
      "Num weight bits = 25\n",
      "learning rate = 0.4\n",
      "initial_t = 0\n",
      "power_t = 0.5\n",
      "decay_learning_rate = 1\n",
      "using cache_file = vw_train.vw.cache\n",
      "ignoring text input in favor of cache input\n",
      "num sources = 1\n",
      "average  since         example        example  current  current  current\n",
      "loss     last          counter         weight    label  predict features\n",
      "0.693147 0.693147            1            1.0  -1.0000   0.0000      168\n",
      "0.689781 0.686414            2            2.0  -1.0000  -0.0135      200\n",
      "0.684935 0.680089            4            4.0  -1.0000  -0.0308      108\n",
      "0.688288 0.691642            8            8.0  -1.0000  -0.0625      120\n",
      "0.694407 0.700525           16           16.0   1.0000  -0.0226      224\n",
      "0.696163 0.697920           32           32.0  -1.0000  -0.0231       32\n",
      "0.689202 0.682241           64           64.0   1.0000  -0.1514       48\n",
      "0.680999 0.672795          128          128.0  -1.0000  -0.1089       36\n",
      "0.683706 0.686413          256          256.0  -1.0000  -0.0967      100\n",
      "0.672520 0.661334          512          512.0  -1.0000  -0.1698      120\n",
      "0.662191 0.651862         1024         1024.0   1.0000  -0.1113       60\n",
      "0.651238 0.640285         2048         2048.0   1.0000  -0.0607       80\n",
      "0.636197 0.621156         4096         4096.0  -1.0000  -0.6720      120\n",
      "0.610734 0.585272         8192         8192.0   1.0000  -0.0663       64\n",
      "0.586543 0.562351        16384        16384.0   1.0000  -1.1831      288\n",
      "0.559841 0.533139        32768        32768.0   1.0000  -0.1988       36\n",
      "0.531838 0.503836        65536        65536.0  -1.0000  -0.1622       72\n",
      "0.503787 0.475735       131072       131072.0  -1.0000   0.3435       48\n",
      "0.473261 0.442735       262144       262144.0  -1.0000  -1.3903      120\n",
      "0.442059 0.442059       524288       524288.0  -1.0000 -10.0063      936 h\n",
      "0.425124 0.408189      1048576      1048576.0  -1.0000  -4.7330      392 h\n",
      "0.413657 0.402191      2097152      2097152.0   1.0000   1.2276       36 h\n",
      "\n",
      "finished run\n",
      "number of examples per pass = 291087\n",
      "passes used = 9\n",
      "weighted example sum = 2619783.000000\n",
      "weighted label sum = -685791.000000\n",
      "average loss = 0.402718 h\n",
      "best constant = -0.536024\n",
      "best constant's loss = 0.658482\n",
      "total feature number = 379604565\n"
     ]
    },
    {
     "name": "stdout",
     "output_type": "stream",
     "text": [
      "CPU times: user 8.99 ms, sys: 11.8 ms, total: 20.8 ms\n",
      "Wall time: 2min 13s\n"
     ]
    }
   ],
   "source": [
    "%%time\n",
    "%%bash\n",
    "\n",
    "vw -d vw_train.vw -b 25 -l 0.4 --l1 0.00000001 --l2 0.00000001 --ngram 2 -q fs -c --passes 500 --loss_function logistic -f vw_model.vw"
   ]
  },
  {
   "cell_type": "code",
   "execution_count": 100,
   "metadata": {
    "collapsed": false
   },
   "outputs": [
    {
     "name": "stderr",
     "output_type": "stream",
     "text": [
      "Generating 2-grams for all namespaces.\n",
      "creating quadratic features for pairs: fs \n",
      "only testing\n",
      "predictions = vw_test_predictions.txt\n",
      "Num weight bits = 25\n",
      "learning rate = 0.5\n",
      "initial_t = 0\n",
      "power_t = 0.5\n",
      "using no cache\n",
      "Reading datafile = vw_test.vw\n",
      "num sources = 1\n",
      "average  since         example        example  current  current  current\n",
      "loss     last          counter         weight    label  predict features\n",
      "2.833607 2.833607            1            1.0  -1.0000  -2.6833      200\n",
      "1.416972 0.000336            2            2.0  -1.0000  -1.0183       32\n",
      "1.918902 2.420833            4            4.0  -1.0000  -0.6305       36\n",
      "10.630009 19.341116            8            8.0  -1.0000  -1.9087      160\n",
      "7.925434 5.220858           16           16.0  -1.0000  -6.1741       80\n",
      "4.891607 1.857781           32           32.0  -1.0000  -2.2014      192\n",
      "6.380665 7.869723           64           64.0   1.0000   0.2158       60\n",
      "5.874280 5.367895          128          128.0  -1.0000  -3.2099      288\n",
      "5.550260 5.226239          256          256.0  -1.0000  -1.2009       24\n",
      "5.401699 5.253138          512          512.0   1.0000   4.0935      288\n",
      "7.977532 10.553366         1024         1024.0   1.0000   0.4677       32\n",
      "7.483926 6.990320         2048         2048.0  -1.0000  -2.2945       64\n",
      "7.030867 6.577808         4096         4096.0  -1.0000 -17.9812     2332\n",
      "7.080427 7.129987         8192         8192.0   1.0000   2.9146      128\n",
      "6.711433 6.342438        16384        16384.0  -1.0000  -2.2955       96\n",
      "6.643092 6.574752        32768        32768.0  -1.0000  -0.5185       48\n",
      "6.529777 6.416461        65536        65536.0   1.0000   2.4716       60\n",
      "\n",
      "finished run\n",
      "number of examples per pass = 80858\n",
      "passes used = 1\n",
      "weighted example sum = 80858.000000\n",
      "weighted label sum = -21152.000000\n",
      "average loss = 6.515406\n",
      "best constant = -0.261594\n",
      "best constant's loss = 0.931568\n",
      "total feature number = 11659023\n"
     ]
    }
   ],
   "source": [
    "%%bash\n",
    "\n",
    "vw -i vw_model.vw -t -d vw_test.vw \\\n",
    "-p vw_test_predictions.txt"
   ]
  },
  {
   "cell_type": "markdown",
   "metadata": {
    "collapsed": true
   },
   "source": [
    "### Validation"
   ]
  },
  {
   "cell_type": "code",
   "execution_count": 101,
   "metadata": {
    "collapsed": false
   },
   "outputs": [],
   "source": [
    "vw_pred = pd.read_csv('vw_test_predictions.txt', header=None, squeeze=True)"
   ]
  },
  {
   "cell_type": "code",
   "execution_count": 102,
   "metadata": {
    "collapsed": false
   },
   "outputs": [
    {
     "data": {
      "text/plain": [
       "0    0.063964\n",
       "1    0.265351\n",
       "2    0.762989\n",
       "3    0.347388\n",
       "4    0.726593\n",
       "5    0.030033\n",
       "6    0.000106\n",
       "7    0.129123\n",
       "8    0.172313\n",
       "9    0.073896\n",
       "Name: 0, dtype: float64"
      ]
     },
     "execution_count": 102,
     "metadata": {},
     "output_type": "execute_result"
    }
   ],
   "source": [
    "vw_exp_pred = expit(vw_pred)\n",
    "vw_exp_pred[:10]"
   ]
  },
  {
   "cell_type": "code",
   "execution_count": 103,
   "metadata": {
    "collapsed": false
   },
   "outputs": [
    {
     "data": {
      "text/plain": [
       "0.40768497612277554"
      ]
     },
     "execution_count": 103,
     "metadata": {},
     "output_type": "execute_result"
    }
   ],
   "source": [
    "log_loss(test.target.values, vw_exp_pred.values)"
   ]
  },
  {
   "cell_type": "raw",
   "metadata": {
    "collapsed": true
   },
   "source": [
    "--l1 0.000001 -c --passes 500          | 0.5208\n",
    "                                       | 0.5130\n",
    "-c --passes 500                        | 0.5113\n",
    "--l1 0.00000001 -c --passes 500        | 0.5112\n",
    "--l1 0.0000001 -c --passes 500         | 0.5106\n",
    "-q fs -c --passes 500                  | 0.4473\n",
    "--l1 0.00000001 -q fs -c --passes 500  | 0.4468\n",
    "--l1 0.0000001 -q fs -c --passes 500   | 0.4447\n",
    "--l2 0.000001 -q fs -c --passes 500    | 0.4444"
   ]
  },
  {
   "cell_type": "raw",
   "metadata": {
    "collapsed": true
   },
   "source": [
    "--l1 0.0000001 --l2 0.000001 -q fs -c --passes 500 | 0.4454\n",
    "--l1 0.0000001 -q fs -c --passes 500   | 0.4447\n",
    "--l2 0.000001 -q fs -c --passes 500    | 0.4444\n",
    "--l1 0.00000001 --l2 0.000001 -q fs -c --passes 500 | 0.4443\n",
    "-l 0.4 --l1 0.00000001 --l2 0.000001 -q fs -c --passes 500 | 0.4440\n",
    "-b 20 -l 0.4 --l1 0.00000001 --l2 0.000001 -q fs -c --passes 500 | 0.4262\n",
    "-b 23 -l 0.4 --l1 0.00000001 --l2 0.00000001 --ngram 2 -q fs -c --passes 500 | 0.4246\n",
    "-b 21 -l 0.4 --l1 0.00000001 --l2 0.000001 -q fs -c --passes 500 | 0.4205\n",
    "-b 22 -l 0.4 --l1 0.00000001 --l2 0.000001 -q fs -c --passes 500 | 0.4170\n",
    "-b 23 -l 0.4 --l1 0.00000001 --l2 0.000001 -q fs -c --passes 500 | 0.4164\n",
    "-b 24 -l 0.4 --l1 0.00000001 --l2 0.00000001 --ngram 2 -q fs -c --passes 500 | 0.4132\n",
    "-b 23 -l 0.4 --l1 0.00000001 --l2 0.0000001 -q fs -c --passes 500 | 0.4117\n",
    "-b 23 -l 0.4 --l1 0.00000001 --l2 0.00000001 -q fs -c --passes 500 | 0.4115\n",
    "-b 25 -l 0.4 --l1 0.00000001 --l2 0.00000001 --ngram 2 -q fs -c --passes 500 | 0.4076\n",
    "-b 26 -l 0.4 --l1 0.00000001 --l2 0.00000001 --ngram 2 -q fs -c --passes 500 | 0.4074"
   ]
  },
  {
   "cell_type": "code",
   "execution_count": null,
   "metadata": {
    "collapsed": true
   },
   "outputs": [],
   "source": []
  }
 ],
 "metadata": {
  "kernelspec": {
   "display_name": "Python 3",
   "language": "python",
   "name": "python3"
  },
  "language_info": {
   "codemirror_mode": {
    "name": "ipython",
    "version": 3
   },
   "file_extension": ".py",
   "mimetype": "text/x-python",
   "name": "python",
   "nbconvert_exporter": "python",
   "pygments_lexer": "ipython3",
   "version": "3.4.6"
  }
 },
 "nbformat": 4,
 "nbformat_minor": 0
}
